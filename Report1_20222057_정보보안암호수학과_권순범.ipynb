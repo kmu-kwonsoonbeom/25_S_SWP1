{
  "nbformat": 4,
  "nbformat_minor": 0,
  "metadata": {
    "colab": {
      "provenance": [],
      "include_colab_link": true
    },
    "kernelspec": {
      "name": "python3",
      "display_name": "Python 3"
    },
    "language_info": {
      "name": "python"
    }
  },
  "cells": [
    {
      "cell_type": "markdown",
      "metadata": {
        "id": "view-in-github",
        "colab_type": "text"
      },
      "source": [
        "<a href=\"https://colab.research.google.com/github/kmu-kwonsoonbeom/25_S_SWP1/blob/main/Report1_20222057_%EC%A0%95%EB%B3%B4%EB%B3%B4%EC%95%88%EC%95%94%ED%98%B8%EC%88%98%ED%95%99%EA%B3%BC_%EA%B6%8C%EC%88%9C%EB%B2%94.ipynb\" target=\"_parent\"><img src=\"https://colab.research.google.com/assets/colab-badge.svg\" alt=\"Open In Colab\"/></a>"
      ]
    },
    {
      "cell_type": "code",
      "source": [
        "def read_matrix():\n",
        "    n = int(input(\"정방행렬의 차수 n을 입력하세요: \").strip())\n",
        "    if n <= 0:\n",
        "        raise ValueError(\"n은 양의 정수여야 합니다.\")\n",
        "\n",
        "    M = []\n",
        "    print(f\"{n}x{n} 행렬을 입력하세요 (각 행은 공백으로 구분):\")\n",
        "\n",
        "    for i in range(1, n + 1):\n",
        "        row = input(f\"{i}번째 행: \").split()\n",
        "        if len(row) != n:\n",
        "            raise ValueError(f\"{i}번째 행에 {n}개가 아닌 {len(row)}개가 입력되었습니다.\")\n",
        "        M.append([float(x) for x in row])\n",
        "    return M\n",
        "\n",
        "def print_matrix(M, title=None, precision=6, box=False):\n",
        "    if title:\n",
        "        print(f\"=== {title} ===\")\n",
        "    if box:\n",
        "      fmt = f\"%{precision+4}.{precision}f\"\n",
        "      size = len(M)\n",
        "      print(\"┌\" + \" \" * 8 * size + \"┐\")\n",
        "      for i in range(size):\n",
        "        print(\"│\", end=\" \")\n",
        "        for j in range(size):\n",
        "          print(fmt % M[i][j], end=\" \")\n",
        "        print(\"│\")\n",
        "      print(\"└\" + \" \" * 8 * size + \"┘\")\n",
        "\n",
        "def identity_matrix(n):\n",
        "    return [[1.0 if i == j else 0.0 for j in range(n)] for i in range(n)]\n",
        "\n",
        "def deep_copy(M):\n",
        "    return [row[:] for row in M]\n",
        "\n",
        "def matrix_equal(A, B, eps=1e-8):\n",
        "    if A is None or B is None:\n",
        "        return False\n",
        "    if len(A) != len(B) or len(A[0]) != len(B[0]):\n",
        "        return False\n",
        "    n, m = len(A), len(A[0])\n",
        "    for i in range(n):\n",
        "        for j in range(m):\n",
        "            if abs(A[i][j] - B[i][j]) > eps:\n",
        "                return False\n",
        "    return True\n"
      ],
      "metadata": {
        "id": "sy3lYawFehUS"
      },
      "execution_count": null,
      "outputs": []
    },
    {
      "cell_type": "code",
      "source": [
        "def getMatrixMinor(m, i, j):\n",
        "  return [row[:j] + row[j+1:] for row in (m[:i] + m[i+1:])]\n",
        "\n",
        "def transposeMatrix(m):\n",
        "  return [[m[j][i] for j in range(len(m))] for i in range(len(m[0]))]\n",
        "\n",
        "def getMatrixDeterminant(m):\n",
        "  n = len(m)\n",
        "  if n == 1:\n",
        "    return m[0][0]\n",
        "  if n == 2:\n",
        "    return m[0][0]*m[1][1] - m[0][1]*m[1][0]\n",
        "\n",
        "  det = 0.0\n",
        "  for c in range(n):\n",
        "    det += ((-1)**c) * m[0][c] * getMatrixDeterminant(getMatrixMinor(m, 0, c))\n",
        "  return det\n"
      ],
      "metadata": {
        "id": "oeskAzq8nqhz"
      },
      "execution_count": null,
      "outputs": []
    },
    {
      "cell_type": "code",
      "source": [
        "def inverse_by_adjugate(m, eps=1e-12):\n",
        "    n = len(m)\n",
        "    det = getMatrixDeterminant(m)\n",
        "    if abs(det) < eps:\n",
        "        raise ZeroDivisionError(\"행렬식이 0이므로 (행렬식 방법) 역행렬이 존재하지 않습니다.\")\n",
        "\n",
        "    if n == 1:\n",
        "        return [[1.0 / m[0][0]]]\n",
        "    if n == 2:\n",
        "        return [\n",
        "            [ m[1][1] / det, -m[0][1] / det],\n",
        "            [-m[1][0] / det,  m[0][0] / det]\n",
        "        ]\n",
        "\n",
        "    cof = []\n",
        "    for i in range(n):\n",
        "        row = []\n",
        "        for j in range(n):\n",
        "            minor = getMatrixMinor(m, i, j)\n",
        "            row.append(((-1)**(i+j)) * getMatrixDeterminant(minor))\n",
        "        cof.append(row)\n",
        "    adj = transposeMatrix(cof)\n",
        "    return [[adj[i][j] / det for j in range(n)] for i in range(n)]\n"
      ],
      "metadata": {
        "id": "qlw-OUCznC91"
      },
      "execution_count": null,
      "outputs": []
    },
    {
      "cell_type": "code",
      "source": [
        "def inverse_by_gauss_jordan(m, eps=1e-12):\n",
        "    if len(m) != len(m[0]):\n",
        "        raise ValueError(\"정방행렬만 역행렬을 구할 수 있습니다.\")\n",
        "    n = len(m)\n",
        "    A = deep_copy(m)\n",
        "    I = identity_matrix(n)\n",
        "\n",
        "    for col in range(n):\n",
        "        pivot_row = max(range(col, n), key=lambda r: abs(A[r][col]))\n",
        "        if abs(A[pivot_row][col]) < eps:\n",
        "            raise ZeroDivisionError(\"피벗이 0이 되어 (가우스-조던) 역행렬이 존재하지 않습니다.\")\n",
        "\n",
        "        if pivot_row != col:\n",
        "            A[col], A[pivot_row] = A[pivot_row], A[col]\n",
        "            I[col], I[pivot_row] = I[pivot_row], I[col]\n",
        "\n",
        "        pivot = A[col][col]\n",
        "        for j in range(n):\n",
        "            A[col][j] /= pivot\n",
        "            I[col][j] /= pivot\n",
        "\n",
        "        for r in range(n):\n",
        "            if r == col:\n",
        "                continue\n",
        "            factor = A[r][col]\n",
        "            if abs(factor) < eps:\n",
        "                continue\n",
        "            for j in range(n):\n",
        "                A[r][j] -= factor * A[col][j]\n",
        "                I[r][j] -= factor * I[col][j]\n",
        "\n",
        "    return I\n"
      ],
      "metadata": {
        "id": "bd0Ecgc1nO8u"
      },
      "execution_count": null,
      "outputs": []
    },
    {
      "cell_type": "code",
      "source": [
        "def main():\n",
        "    try:\n",
        "        A = read_matrix()\n",
        "\n",
        "        inv_adj = None\n",
        "        try:\n",
        "            inv_adj = inverse_by_adjugate(A)\n",
        "            print_matrix(inv_adj, \"역행렬 (행렬식/수반행렬)\", precision=3, box=True)\n",
        "        except Exception as e:\n",
        "            print(f\"[행렬식 방법] 오류: {e}\")\n",
        "\n",
        "        inv_gj = None\n",
        "        try:\n",
        "            inv_gj = inverse_by_gauss_jordan(A)\n",
        "            print_matrix(inv_gj, \"역행렬 (가우스-조던)\", precision=3, box=True)\n",
        "        except Exception as e:\n",
        "            print(f\"[가우스-조던 방법] 오류: {e}\")\n",
        "\n",
        "        if inv_adj is not None and inv_gj is not None:\n",
        "            same = matrix_equal(inv_adj, inv_gj, eps=1e-8)\n",
        "            msg = \"두 방법의 결과가 동일합니다.\" if same else \"두 방법의 결과가 서로 다릅니다.\"\n",
        "            print(\"비교 결과:\", msg)\n",
        "\n",
        "    except Exception as e:\n",
        "        print(f\"[입력/실행 오류] {e}\")\n",
        "\n",
        "if __name__ == \"__main__\":\n",
        "    main()"
      ],
      "metadata": {
        "colab": {
          "base_uri": "https://localhost:8080/"
        },
        "id": "QRm1HIjWj0ll",
        "outputId": "634e5d09-4872-4f63-db53-85dcb537e223"
      },
      "execution_count": null,
      "outputs": [
        {
          "output_type": "stream",
          "name": "stdout",
          "text": [
            "정방행렬의 차수 n을 입력하세요: 2\n",
            "2x2 행렬을 입력하세요 (각 행은 공백으로 구분):\n",
            "1번째 행: 2 3\n",
            "2번째 행: 1 4\n",
            "=== 역행렬 (행렬식/수반행렬) ===\n",
            "┌                ┐\n",
            "│   0.800  -0.600 │\n",
            "│  -0.200   0.400 │\n",
            "└                ┘\n",
            "=== 역행렬 (가우스-조던) ===\n",
            "┌                ┐\n",
            "│   0.800  -0.600 │\n",
            "│  -0.200   0.400 │\n",
            "└                ┘\n",
            "비교 결과: 두 방법의 결과가 동일합니다.\n"
          ]
        }
      ]
    }
  ]
}